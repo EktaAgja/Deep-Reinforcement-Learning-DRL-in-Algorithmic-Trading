{
 "cells": [
  {
   "cell_type": "code",
   "execution_count": 8,
   "metadata": {},
   "outputs": [
    {
     "name": "stdout",
     "output_type": "stream",
     "text": [
      "   Stock  Sharpe_B&H  Sharpe_MR  Sharpe_TDQN\n",
      "0   AAPL    0.249301  -1.865332     0.280558\n",
      "1   MSFT   -0.121058   0.169753     0.098154\n",
      "2  GOOGL    0.316671  -0.358382     0.066561\n",
      "3   TSLA    0.517792   1.076499    -1.058364\n",
      "4   AMZN    0.504188   0.037187     0.210095\n",
      "5   META    0.066087  -0.091579     0.242969\n",
      "6   NVDA   -0.305806  -1.265358     1.195029\n",
      "7   NFLX   -0.113669  -0.562340    -0.325001\n",
      "8    AMD   -0.229560   0.009209     0.174593\n",
      "9   INTC    0.120770   1.310908     0.220255\n"
     ]
    }
   ],
   "source": [
    "import numpy as np\n",
    "import pandas as pd\n",
    "\n",
    "# Define Sharpe Ratio Function\n",
    "def sharpe_ratio(returns, risk_free_rate=0.0):\n",
    "    \"\"\" Compute Sharpe Ratio: (Mean Return - Risk-Free Rate) / Std Dev \"\"\"\n",
    "    excess_returns = returns - risk_free_rate\n",
    "    return np.sqrt(252) * excess_returns.mean() / (returns.std() + 1e-8)  # Avoid division by zero\n",
    "\n",
    "# Simulated Stock Data for Multiple Stocks\n",
    "np.random.seed(42)\n",
    "dates = pd.date_range(start=\"2020-01-01\", periods=500, freq=\"D\")\n",
    "stocks = [\"AAPL\", \"MSFT\", \"GOOGL\", \"TSLA\", \"AMZN\", \"META\", \"NVDA\", \"NFLX\", \"AMD\", \"INTC\"]\n",
    "\n",
    "performance_data = []\n",
    "\n",
    "for stock in stocks:\n",
    "    # Generate Stock Prices (Simulated)\n",
    "    prices = 100 + np.cumsum(np.random.randn(500) * 2)  # Random Walk\n",
    "\n",
    "    df_stock = pd.DataFrame({\"Date\": dates, \"Close\": prices})\n",
    "    df_stock[\"Daily_Returns\"] = df_stock[\"Close\"].pct_change().fillna(0)\n",
    "\n",
    "    # Buy & Hold Strategy\n",
    "    df_stock[\"Buy_Hold_Returns\"] = df_stock[\"Daily_Returns\"]\n",
    "\n",
    "    # Mean Reversion Strategies (Random Signals for Demonstration)\n",
    "    df_stock[\"MR_Signal\"] = np.random.choice([-1, 0, 1], size=len(df_stock))  # Random -1, 0, 1\n",
    "    df_stock[\"MR_Returns\"] = df_stock[\"Daily_Returns\"] * df_stock[\"MR_Signal\"].shift(1).fillna(0)\n",
    "\n",
    "    # Simulated TDQN Portfolio Values (If real values missing)\n",
    "    df_tdqn = pd.DataFrame({\n",
    "        \"Date\": dates,\n",
    "        \"Portfolio_Value_TDQN\": 100000 + np.cumsum(np.random.randn(500) * 500)  # Simulated Portfolio\n",
    "    })\n",
    "    df_tdqn[\"Date\"] = pd.to_datetime(df_tdqn[\"Date\"])\n",
    "\n",
    "    # Merge TDQN Portfolio Data\n",
    "    df_stock = df_stock.merge(df_tdqn[[\"Date\", \"Portfolio_Value_TDQN\"]], on=\"Date\", how=\"left\")\n",
    "\n",
    "    # Compute TDQN Returns\n",
    "    df_stock[\"TDQN_Returns\"] = df_stock[\"Portfolio_Value_TDQN\"].pct_change().fillna(0)\n",
    "\n",
    "    # Compute Sharpe Ratios\n",
    "    sharpe_bh = sharpe_ratio(df_stock[\"Buy_Hold_Returns\"])\n",
    "    sharpe_mr = sharpe_ratio(df_stock[\"MR_Returns\"])\n",
    "    sharpe_tdqn = sharpe_ratio(df_stock[\"TDQN_Returns\"])\n",
    "\n",
    "    # Append to Performance Table\n",
    "    performance_data.append([stock, sharpe_bh, sharpe_mr, sharpe_tdqn])\n",
    "\n",
    "# Create DataFrame\n",
    "performance_df = pd.DataFrame(performance_data, columns=[\"Stock\", \"Sharpe_B&H\", \"Sharpe_MR\", \"Sharpe_TDQN\"])\n",
    "\n",
    "# Print Performance Summary\n",
    "print(performance_df)\n"
   ]
  },
  {
   "cell_type": "code",
   "execution_count": null,
   "metadata": {},
   "outputs": [],
   "source": []
  }
 ],
 "metadata": {
  "kernelspec": {
   "display_name": "tDRL_env",
   "language": "python",
   "name": "python3"
  },
  "language_info": {
   "codemirror_mode": {
    "name": "ipython",
    "version": 3
   },
   "file_extension": ".py",
   "mimetype": "text/x-python",
   "name": "python",
   "nbconvert_exporter": "python",
   "pygments_lexer": "ipython3",
   "version": "3.8.20"
  }
 },
 "nbformat": 4,
 "nbformat_minor": 2
}
